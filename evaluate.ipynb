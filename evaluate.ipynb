{
 "cells": [
  {
   "cell_type": "markdown",
   "metadata": {},
   "source": [
    "# Evaluate the model"
   ]
  },
  {
   "cell_type": "code",
   "execution_count": 8,
   "metadata": {},
   "outputs": [],
   "source": [
    "import warnings\n",
    "warnings.filterwarnings('ignore', category=FutureWarning)\n",
    "import time\n",
    "import os\n",
    "import librosa\n",
    "import pandas as pd\n",
    "\n",
    "from hparams import create_hparams\n",
    "from model import Model"
   ]
  },
  {
   "cell_type": "markdown",
   "metadata": {},
   "source": [
    "#### Set parameters"
   ]
  },
  {
   "cell_type": "code",
   "execution_count": 9,
   "metadata": {},
   "outputs": [
    {
     "name": "stdout",
     "output_type": "stream",
     "text": [
      "Model name: U_Net\n",
      "24,048,389 total parameters.\n",
      "24,048,389 training parameters.\n"
     ]
    }
   ],
   "source": [
    "model_name = 'unet'\n",
    "model_path = 'path-to-model'\n",
    "\n",
    "test_dir = 'path-to-test-dir'\n",
    "\n",
    "hparams = create_hparams()\n",
    "hparams.hard_mask = False\n",
    "hparams.extract = True\n",
    "\n",
    "outputs = ['drums', 'bass', 'other', 'vocals', 'accompaniment']\n",
    "model = Model(hparams)"
   ]
  },
  {
   "cell_type": "markdown",
   "metadata": {},
   "source": [
    "#### test example"
   ]
  },
  {
   "cell_type": "code",
   "execution_count": 10,
   "metadata": {},
   "outputs": [],
   "source": [
    "mix, _ = librosa.load(os.path.join(test_dir, 'mixture.wav'), sr=hparams.SR, duration=None)\n",
    "gt = [librosa.load(os.path.join(test_dir, output)+'.wav', sr=hparams.SR, duration=None)[0] for output in outputs]"
   ]
  },
  {
   "cell_type": "markdown",
   "metadata": {},
   "source": [
    "#### evaluation metrics"
   ]
  },
  {
   "cell_type": "code",
   "execution_count": 11,
   "metadata": {},
   "outputs": [],
   "source": [
    "sdr, sir, sar = model.evaluate(mix, gt, model_path)\n",
    "song = {}\n",
    "for idx, output in enumerate(outputs):\n",
    "    song[output] = {\n",
    "        'sdr': sdr[idx],\n",
    "        'sir': sir[idx],\n",
    "        'sar': sar[idx]\n",
    "    }"
   ]
  },
  {
   "cell_type": "code",
   "execution_count": 12,
   "metadata": {},
   "outputs": [
    {
     "data": {
      "text/html": [
       "<div>\n",
       "<style scoped>\n",
       "    .dataframe tbody tr th:only-of-type {\n",
       "        vertical-align: middle;\n",
       "    }\n",
       "\n",
       "    .dataframe tbody tr th {\n",
       "        vertical-align: top;\n",
       "    }\n",
       "\n",
       "    .dataframe thead th {\n",
       "        text-align: right;\n",
       "    }\n",
       "</style>\n",
       "<table border=\"1\" class=\"dataframe\">\n",
       "  <thead>\n",
       "    <tr style=\"text-align: right;\">\n",
       "      <th></th>\n",
       "      <th>drums</th>\n",
       "      <th>bass</th>\n",
       "      <th>other</th>\n",
       "      <th>vocals</th>\n",
       "      <th>accompaniment</th>\n",
       "    </tr>\n",
       "  </thead>\n",
       "  <tbody>\n",
       "    <tr>\n",
       "      <th>sdr</th>\n",
       "      <td>2.042593</td>\n",
       "      <td>3.852706</td>\n",
       "      <td>-4.353316</td>\n",
       "      <td>5.393128</td>\n",
       "      <td>4.144378</td>\n",
       "    </tr>\n",
       "    <tr>\n",
       "      <th>sir</th>\n",
       "      <td>6.298009</td>\n",
       "      <td>6.607235</td>\n",
       "      <td>-3.086964</td>\n",
       "      <td>10.171800</td>\n",
       "      <td>5.392390</td>\n",
       "    </tr>\n",
       "    <tr>\n",
       "      <th>sar</th>\n",
       "      <td>5.001290</td>\n",
       "      <td>7.992619</td>\n",
       "      <td>6.439231</td>\n",
       "      <td>7.548856</td>\n",
       "      <td>11.271307</td>\n",
       "    </tr>\n",
       "  </tbody>\n",
       "</table>\n",
       "</div>"
      ],
      "text/plain": [
       "        drums      bass     other     vocals  accompaniment\n",
       "sdr  2.042593  3.852706 -4.353316   5.393128       4.144378\n",
       "sir  6.298009  6.607235 -3.086964  10.171800       5.392390\n",
       "sar  5.001290  7.992619  6.439231   7.548856      11.271307"
      ]
     },
     "execution_count": 12,
     "metadata": {},
     "output_type": "execute_result"
    }
   ],
   "source": [
    "pd.DataFrame(song)"
   ]
  }
 ],
 "metadata": {
  "kernelspec": {
   "display_name": "Python 3",
   "language": "python",
   "name": "python3"
  },
  "language_info": {
   "codemirror_mode": {
    "name": "ipython",
    "version": 3
   },
   "file_extension": ".py",
   "mimetype": "text/x-python",
   "name": "python",
   "nbconvert_exporter": "python",
   "pygments_lexer": "ipython3",
   "version": "3.6.12"
  }
 },
 "nbformat": 4,
 "nbformat_minor": 4
}
