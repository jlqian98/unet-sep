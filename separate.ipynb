{
 "cells": [
  {
   "cell_type": "markdown",
   "metadata": {},
   "source": [
    "# Separate the test mixture"
   ]
  },
  {
   "cell_type": "code",
   "execution_count": null,
   "metadata": {},
   "outputs": [],
   "source": [
    "import warnings\n",
    "warnings.filterwarnings('ignore', category=FutureWarning)\n",
    "import time\n",
    "import os\n",
    "import librosa\n",
    "import numpy as np\n",
    "import IPython.display as ipd\n",
    "\n",
    "from hparams import create_hparams\n",
    "from model import Model\n",
    "from soundfile import write"
   ]
  },
  {
   "cell_type": "markdown",
   "metadata": {},
   "source": [
    "#### Set parameters"
   ]
  },
  {
   "cell_type": "code",
   "execution_count": null,
   "metadata": {},
   "outputs": [],
   "source": [
    "mix_file_path = 'path-to-mixture'\n",
    "mix_file_name = 'mixture'\n",
    "model_name = 'unet'\n",
    "model_path = 'path-to-model'\n",
    "\n",
    "hparams = create_hparams()\n",
    "hparams.hard_mask = False\n",
    "hparams.extract = True\n",
    "\n",
    "outputs = ['drums', 'bass', 'other', 'vocals', 'accompaniment']"
   ]
  },
  {
   "cell_type": "markdown",
   "metadata": {},
   "source": [
    "#### Separate the target"
   ]
  },
  {
   "cell_type": "code",
   "execution_count": null,
   "metadata": {},
   "outputs": [],
   "source": [
    "model = Model(hparams)\n",
    "\n",
    "mix, _ = librosa.load(mix_file_path, sr=hparams.SR)\n",
    "print('Start separating...')\n",
    "start = time.time()\n",
    "\n",
    "output_wavs = model.separate(mix, hparams, model_path)\n",
    "print('Separating finished.')\n",
    "print('Song duration: %.5fs, time taken: %.5fs' % (mix.shape[0]/hparams.SR, time.time()-start))"
   ]
  },
  {
   "cell_type": "markdown",
   "metadata": {},
   "source": [
    "#### Mixture & target"
   ]
  },
  {
   "cell_type": "markdown",
   "metadata": {},
   "source": [
    "Mixture"
   ]
  },
  {
   "cell_type": "code",
   "execution_count": null,
   "metadata": {},
   "outputs": [],
   "source": [
    "mix = librosa.resample(mix, hparams.SR, 44100)\n",
    "ipd.Audio(mix, rate=44100)"
   ]
  },
  {
   "cell_type": "markdown",
   "metadata": {},
   "source": [
    "Target"
   ]
  },
  {
   "cell_type": "code",
   "execution_count": null,
   "metadata": {},
   "outputs": [],
   "source": [
    "target = 'accompaniment'\n",
    "print(target)\n",
    "target_wav = librosa.resample(output_wavs[outputs.index(target)], hparams.SR, 44100)\n",
    "ipd.Audio(target_wav, rate=44100)"
   ]
  },
  {
   "cell_type": "code",
   "execution_count": null,
   "metadata": {},
   "outputs": [],
   "source": [
    "target = 'vocals'\n",
    "print(target)\n",
    "target_wav = librosa.resample(output_wavs[outputs.index(target)], hparams.SR, 44100)\n",
    "ipd.Audio(target_wav, rate=44100)"
   ]
  },
  {
   "cell_type": "code",
   "execution_count": null,
   "metadata": {},
   "outputs": [],
   "source": [
    "target = 'drums'\n",
    "print(target)\n",
    "target_wav = librosa.resample(output_wavs[outputs.index(target)], hparams.SR, 44100)\n",
    "ipd.Audio(target_wav, rate=44100)"
   ]
  },
  {
   "cell_type": "markdown",
   "metadata": {},
   "source": [
    "#### Write separated waves in the files"
   ]
  },
  {
   "cell_type": "code",
   "execution_count": null,
   "metadata": {},
   "outputs": [],
   "source": [
    "for idx, output in enumerate(outputs):\n",
    "    path_dir = os.path.join(hparams.separate_path, mix_file_name.split('.')[0], model_name)\n",
    "    os.makedirs(path_dir, exist_ok=True)\n",
    "    write(os.path.join(path_dir, output+'.wav'), output_wavs[idx], hparams.SR)"
   ]
  },
  {
   "cell_type": "markdown",
   "metadata": {},
   "source": [
    "#### Separator for separating lists of files"
   ]
  },
  {
   "cell_type": "code",
   "execution_count": null,
   "metadata": {},
   "outputs": [],
   "source": [
    "# separate files in a dir\n",
    "class Separator(object):\n",
    "\n",
    "    def __init__(self, haprams, mix_dir, model, checkpoint):\n",
    "        self.hparams = hparams\n",
    "        self.test_dir = mix_dir\n",
    "        self.model_name = model\n",
    "        self.model_path = checkpoint\n",
    "        self.audio_list = os.listdir(self.test_dir)\n",
    "        self.model = Model(hparams)\n",
    "        self.model.load_model(self.model_path)\n",
    "\n",
    "    \n",
    "    def sep(self, ):\n",
    "        for fname in self.audio_list:\n",
    "            self.separate(fname)\n",
    "\n",
    "    def separate(self, fname):\n",
    "        mix, _ = librosa.load(os.path.join(self.test_dir, fname), sr=self.hparams.SR)\n",
    "        insts_wav = self.model.separate(mix, self.hparams, self.model_path)\n",
    "\n",
    "        insts = ['drums', 'bass', 'other', 'vocals', 'accompaniment']\n",
    "        for idx, inst in enumerate(insts):\n",
    "            path_dir = os.path.join(self.hparams.separate_path, fname.split('.')[0], self.model_name)\n",
    "            os.makedirs(path_dir, exist_ok=True)\n",
    "            write(os.path.join(path_dir, inst+'.wav'), insts_wav[idx], self.hparams.SR)"
   ]
  }
 ],
 "metadata": {
  "kernelspec": {
   "display_name": "Python 3",
   "language": "python",
   "name": "python3"
  },
  "language_info": {
   "codemirror_mode": {
    "name": "ipython",
    "version": 3
   },
   "file_extension": ".py",
   "mimetype": "text/x-python",
   "name": "python",
   "nbconvert_exporter": "python",
   "pygments_lexer": "ipython3",
   "version": "3.6.12"
  }
 },
 "nbformat": 4,
 "nbformat_minor": 4
}
